{
  "nbformat": 4,
  "nbformat_minor": 0,
  "metadata": {
    "colab": {
      "provenance": [],
      "authorship_tag": "ABX9TyPcBetg5Y4NYWJzOn8vVgdI",
      "include_colab_link": true
    },
    "kernelspec": {
      "name": "python3",
      "display_name": "Python 3"
    },
    "language_info": {
      "name": "python"
    }
  },
  "cells": [
    {
      "cell_type": "markdown",
      "metadata": {
        "id": "view-in-github",
        "colab_type": "text"
      },
      "source": [
        "<a href=\"https://colab.research.google.com/github/rahmosthated/curve/blob/main/untitled37.ipynb\" target=\"_parent\"><img src=\"https://colab.research.google.com/assets/colab-badge.svg\" alt=\"Open In Colab\"/></a>"
      ]
    },
    {
      "cell_type": "code",
      "source": [
        "best_params = study.best_params\n",
        "final_model = ARIMA(y, order=(best_params['p'], best_params['d'], best_params['q']))\n",
        "final_model_fit = final_model.fit()\n",
        "\n",
        "# Print the summary of the final model\n",
        "print(final_model_fit.summary())\n"
      ],
      "metadata": {
        "id": "Aij8xkFKCKfb"
      },
      "execution_count": null,
      "outputs": []
    }
  ]
}