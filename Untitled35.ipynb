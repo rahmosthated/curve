{
  "nbformat": 4,
  "nbformat_minor": 0,
  "metadata": {
    "colab": {
      "provenance": [],
      "authorship_tag": "ABX9TyNUsBfuMDbj1M5MP7HL2mI0",
      "include_colab_link": true
    },
    "kernelspec": {
      "name": "python3",
      "display_name": "Python 3"
    },
    "language_info": {
      "name": "python"
    }
  },
  "cells": [
    {
      "cell_type": "markdown",
      "metadata": {
        "id": "view-in-github",
        "colab_type": "text"
      },
      "source": [
        "<a href=\"https://colab.research.google.com/github/rahmosthated/curve/blob/main/Untitled35.ipynb\" target=\"_parent\"><img src=\"https://colab.research.google.com/assets/colab-badge.svg\" alt=\"Open In Colab\"/></a>"
      ]
    },
    {
      "cell_type": "code",
      "execution_count": null,
      "metadata": {
        "id": "ecTulNdkLg4h"
      },
      "outputs": [],
      "source": [
        "from sklearn.model_selection import learning_curve\n",
        "import matplotlib.pyplot as plt\n",
        "import numpy as np\n",
        "\n",
        "# Assume you already have X, y, and your model defined (e.g., clf or model)\n",
        "\n",
        "# Generate learning curve\n",
        "sample_sizes, train_scores, test_scores = learning_curve(\n",
        "    model, X, y, cv=5, scoring='roc_auc', n_jobs=-1,\n",
        "    train_sizes=np.linspace(0.1, 1.0, 10), shuffle=True, random_state=42\n",
        ")\n",
        "\n",
        "# Compute means\n",
        "train_scores_mean = np.mean(train_scores, axis=1)\n",
        "test_scores_mean = np.mean(test_scores, axis=1)\n",
        "\n",
        "# Plot\n",
        "plt.plot(sample_sizes, train_scores_mean, label='Training score')\n",
        "plt.plot(sample_sizes, test_scores_mean, label='Test score')\n",
        "plt.title('Learning Curve')\n",
        "plt.xlabel('Number of training examples')\n",
        "plt.ylabel('AUC Score')\n",
        "plt.legend()\n",
        "plt.show()\n"
      ]
    }
  ]
}